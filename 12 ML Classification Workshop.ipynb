{
 "cells": [
  {
   "cell_type": "markdown",
   "id": "precious-punishment",
   "metadata": {},
   "source": [
    "## Workshop - ML Classification\n",
    "\n",
    "In this workshop we will \n",
    "\n",
    "* obtain the null model accuracy\n",
    "* obtain a Gaussian naive Bayes accuracy\n",
    "* cross-validate a KNN classifier and obtain the accuracy\n",
    "\n",
    "Run this code. **Notice the alternative standardization technique.**"
   ]
  },
  {
   "cell_type": "code",
   "execution_count": 1,
   "id": "selected-stanford",
   "metadata": {},
   "outputs": [],
   "source": [
    "import numpy as np\n",
    "import pandas as pd\n",
    "\n",
    "from sklearn.neighbors import KNeighborsClassifier\n",
    "from sklearn.naive_bayes import GaussianNB\n",
    "from sklearn.metrics import mean_squared_error\n",
    "from sklearn import linear_model as lm\n",
    "\n",
    "from sklearn.model_selection import KFold, train_test_split\n",
    "from sklearn.metrics import plot_confusion_matrix\n",
    "from sklearn.preprocessing import LabelEncoder,StandardScaler\n",
    "\n",
    "from tqdm import tqdm\n",
    "\n",
    "import matplotlib.pyplot as plt"
   ]
  },
  {
   "cell_type": "code",
   "execution_count": 2,
   "id": "artistic-validation",
   "metadata": {},
   "outputs": [],
   "source": [
    "df = pd.read_pickle('class_data.pkl')"
   ]
  },
  {
   "cell_type": "code",
   "execution_count": 3,
   "id": "structured-directory",
   "metadata": {},
   "outputs": [],
   "source": [
    "df_prepped = df.drop(columns = ['year']).join([\n",
    "    pd.get_dummies(df.year, drop_first = False)    \n",
    "])"
   ]
  },
  {
   "cell_type": "code",
   "execution_count": 4,
   "id": "operational-combine",
   "metadata": {},
   "outputs": [],
   "source": [
    "le = LabelEncoder().fit(df_prepped['urate_bin'].unique())\n",
    "y = le.transform(df_prepped['urate_bin'])"
   ]
  },
  {
   "cell_type": "code",
   "execution_count": 5,
   "id": "sweet-andorra",
   "metadata": {},
   "outputs": [],
   "source": [
    "y = df_prepped['urate_bin'].astype('category').cat.set_categories(['lower', 'similar', 'higher'])\n",
    "x = df_prepped.drop(columns = 'urate_bin')\n",
    "\n",
    "x_train, x_test, y_train, y_test = train_test_split(x, y, train_size = 2/3, random_state = 490)\n",
    "\n",
    "x_train_std = pd.DataFrame(StandardScaler().fit(x_train).transform(x_train),\n",
    "                           columns = x_train.columns,\n",
    "                           index = x_train.index)\n",
    "\n",
    "x_test_std = pd.DataFrame(StandardScaler().fit(x_test).transform(x_test),\n",
    "                          columns = x_test.columns, \n",
    "                          index = x_test.index)"
   ]
  },
  {
   "cell_type": "markdown",
   "id": "amateur-arthritis",
   "metadata": {},
   "source": [
    "************\n",
    "# Null Model\n",
    "Obtain and print the accuracy for the null model."
   ]
  },
  {
   "cell_type": "code",
   "execution_count": 6,
   "id": "needed-notebook",
   "metadata": {},
   "outputs": [
    {
     "data": {
      "text/plain": [
       "0.43416937149601653"
      ]
     },
     "execution_count": 6,
     "metadata": {},
     "output_type": "execute_result"
    }
   ],
   "source": [
    "null_acc = np.mean(y_test == 'higher')\n",
    "null_acc"
   ]
  },
  {
   "cell_type": "markdown",
   "id": "graphic-astrology",
   "metadata": {},
   "source": [
    "***\n",
    "# Gaussian Naive Bayes\n",
    "Obtain and print the GNB test accuracy."
   ]
  },
  {
   "cell_type": "code",
   "execution_count": 7,
   "id": "enormous-bedroom",
   "metadata": {},
   "outputs": [
    {
     "data": {
      "text/plain": [
       "0.49642962525818823"
      ]
     },
     "execution_count": 7,
     "metadata": {},
     "output_type": "execute_result"
    }
   ],
   "source": [
    "gnb = GaussianNB()\n",
    "gnb.fit(x_train, y_train)\n",
    "\n",
    "gnb_acc = (gnb.score(x_test, y_test))\n",
    "gnb_acc"
   ]
  },
  {
   "cell_type": "markdown",
   "id": "serial-florida",
   "metadata": {},
   "source": [
    "Obtain and print the percent improvement in test accuracy from the null model."
   ]
  },
  {
   "cell_type": "code",
   "execution_count": 8,
   "id": "intimate-carpet",
   "metadata": {},
   "outputs": [
    {
     "data": {
      "text/plain": [
       "14.34"
      ]
     },
     "execution_count": 8,
     "metadata": {},
     "output_type": "execute_result"
    }
   ],
   "source": [
    "round((gnb_acc - null_acc)/null_acc*100, 2)"
   ]
  },
  {
   "cell_type": "markdown",
   "id": "spare-vanilla",
   "metadata": {},
   "source": [
    "***\n",
    "# KNN\n",
    "Complete the following for loop.\n",
    "\n",
    "*Hint: Lecture 11 Regression-Based Classification - Alternative Thresholds*."
   ]
  },
  {
   "cell_type": "code",
   "execution_count": 9,
   "id": "drawn-kingdom",
   "metadata": {},
   "outputs": [
    {
     "name": "stderr",
     "output_type": "stream",
     "text": [
      "100%|██████████| 3/3 [01:06<00:00, 22.27s/it]\n"
     ]
    },
    {
     "data": {
      "text/plain": [
       "{20: 0.6635484835735472, 30: 0.6686829112737166, 40: 0.6667353383532633}"
      ]
     },
     "execution_count": 9,
     "metadata": {},
     "output_type": "execute_result"
    }
   ],
   "source": [
    "kf = KFold(n_splits = 5, random_state = 490, shuffle = True)\n",
    "# I am helping you out by identifying approximately where the optimal solution is\n",
    "# in general, you should I would start with\n",
    "# [3, 5, 7, 10, 15, 20, 25]\n",
    "# and adjust accordingly\n",
    "# There is no reason to suspect a smaller or higher value is best a priori\n",
    "k_nbrs = [20, 30, 40]\n",
    "accuracy = {}\n",
    "\n",
    "for k in tqdm(k_nbrs):\n",
    "    acc = []\n",
    "    for trn, tst in kf.split(x_train_std):\n",
    "        y_hat = KNeighborsClassifier(n_neighbors = k).fit(x_train_std.iloc[trn], y_train.iloc[trn]).predict(x_train_std.iloc[tst])\n",
    "        acc.append(np.mean(y_hat == y_train.iloc[tst]))\n",
    "    accuracy[k] = np.mean(acc)\n",
    "    \n",
    "accuracy"
   ]
  },
  {
   "cell_type": "markdown",
   "id": "twenty-parks",
   "metadata": {},
   "source": [
    "What is the optimal value of $k$ using either `max()` or by producing a scatterplot."
   ]
  },
  {
   "cell_type": "code",
   "execution_count": 10,
   "id": "unexpected-evans",
   "metadata": {},
   "outputs": [
    {
     "name": "stdout",
     "output_type": "stream",
     "text": [
      "max accuracy at alpha = 30\n"
     ]
    }
   ],
   "source": [
    "print('max accuracy at alpha = %s' % max(accuracy, key = accuracy.get))"
   ]
  },
  {
   "cell_type": "markdown",
   "id": "grand-india",
   "metadata": {},
   "source": [
    "Refit the optimal KNN model on the training data."
   ]
  },
  {
   "cell_type": "code",
   "execution_count": 12,
   "id": "hazardous-discrimination",
   "metadata": {},
   "outputs": [
    {
     "data": {
      "text/plain": [
       "KNeighborsClassifier(n_neighbors=30)"
      ]
     },
     "execution_count": 12,
     "metadata": {},
     "output_type": "execute_result"
    }
   ],
   "source": [
    "knnc = KNeighborsClassifier(n_neighbors = 30)\n",
    "knnc.fit(x_train_std, y_train)"
   ]
  },
  {
   "cell_type": "markdown",
   "id": "certified-chester",
   "metadata": {},
   "source": [
    "Obtain and print the test accuracy."
   ]
  },
  {
   "cell_type": "code",
   "execution_count": 13,
   "id": "wanted-craft",
   "metadata": {},
   "outputs": [],
   "source": [
    "knn_acc = (knnc.score(x_test_std, y_test))"
   ]
  },
  {
   "cell_type": "markdown",
   "id": "pharmaceutical-region",
   "metadata": {},
   "source": [
    "Obtain and print the percent improvement in test accuracy from the null model."
   ]
  },
  {
   "cell_type": "code",
   "execution_count": 14,
   "id": "functional-clark",
   "metadata": {},
   "outputs": [
    {
     "data": {
      "text/plain": [
       "54.94"
      ]
     },
     "execution_count": 14,
     "metadata": {},
     "output_type": "execute_result"
    }
   ],
   "source": [
    "round((knn_acc - null_acc)/null_acc*100, 2)"
   ]
  }
 ],
 "metadata": {
  "kernelspec": {
   "display_name": "Python 3",
   "language": "python",
   "name": "python3"
  },
  "language_info": {
   "codemirror_mode": {
    "name": "ipython",
    "version": 3
   },
   "file_extension": ".py",
   "mimetype": "text/x-python",
   "name": "python",
   "nbconvert_exporter": "python",
   "pygments_lexer": "ipython3",
   "version": "3.8.5"
  }
 },
 "nbformat": 4,
 "nbformat_minor": 5
}

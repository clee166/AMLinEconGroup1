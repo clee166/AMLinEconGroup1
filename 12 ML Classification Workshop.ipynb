{
 "cells": [
  {
   "cell_type": "markdown",
   "id": "precious-punishment",
   "metadata": {},
   "source": [
    "## Workshop - ML Classification\n",
    "\n",
    "In this workshop we will \n",
    "\n",
    "* obtain the null model accuracy\n",
    "* obtain a Gaussian naive Bayes accuracy\n",
    "* cross-validate a KNN classifier and obtain the accuracy\n",
    "\n",
    "Run this code. **Notice the alternative standardization technique.**"
   ]
  },
  {
   "cell_type": "code",
<<<<<<< HEAD
   "execution_count": 1,
=======
   "execution_count": 2,
>>>>>>> f398c6351db67d227d6788c235916e0655d11c84
   "id": "selected-stanford",
   "metadata": {},
   "outputs": [],
   "source": [
    "import numpy as np\n",
    "import pandas as pd\n",
    "\n",
    "from sklearn.neighbors import KNeighborsClassifier\n",
    "from sklearn.naive_bayes import GaussianNB\n",
    "from sklearn.metrics import mean_squared_error\n",
    "from sklearn import linear_model as lm\n",
    "\n",
    "from sklearn.model_selection import KFold, train_test_split\n",
    "from sklearn.metrics import plot_confusion_matrix\n",
    "from sklearn.preprocessing import LabelEncoder,StandardScaler\n",
    "\n",
    "from tqdm import tqdm\n",
    "\n",
    "import matplotlib.pyplot as plt"
   ]
  },
  {
   "cell_type": "code",
<<<<<<< HEAD
   "execution_count": 2,
=======
   "execution_count": 3,
>>>>>>> f398c6351db67d227d6788c235916e0655d11c84
   "id": "artistic-validation",
   "metadata": {},
   "outputs": [],
   "source": [
<<<<<<< HEAD
    "df = pd.read_pickle('class_data.pkl')"
=======
    "df = pd.read_csv('class_data.csv')"
>>>>>>> f398c6351db67d227d6788c235916e0655d11c84
   ]
  },
  {
   "cell_type": "code",
<<<<<<< HEAD
   "execution_count": 3,
   "id": "structured-directory",
   "metadata": {},
   "outputs": [],
   "source": [
    "df_prepped = df.drop(columns = ['year']).join([\n",
    "    pd.get_dummies(df.year, drop_first = False)    \n",
    "])"
=======
   "execution_count": 4,
   "id": "bridal-wholesale",
   "metadata": {},
   "outputs": [],
   "source": [
    "df.set_index('GeoName', append = True, inplace = True)"
>>>>>>> f398c6351db67d227d6788c235916e0655d11c84
   ]
  },
  {
   "cell_type": "code",
<<<<<<< HEAD
   "execution_count": 4,
   "id": "operational-combine",
   "metadata": {},
   "outputs": [],
   "source": [
    "le = LabelEncoder().fit(df_prepped['urate_bin'].unique())\n",
    "y = le.transform(df_prepped['urate_bin'])"
=======
   "execution_count": 5,
   "id": "structured-directory",
   "metadata": {},
   "outputs": [],
   "source": [
    "df_prepped = df.drop(columns = ['year']).join([\n",
    "    pd.get_dummies(df.year, drop_first = False)    \n",
    "])"
>>>>>>> f398c6351db67d227d6788c235916e0655d11c84
   ]
  },
  {
   "cell_type": "code",
<<<<<<< HEAD
   "execution_count": 5,
=======
   "execution_count": 6,
>>>>>>> f398c6351db67d227d6788c235916e0655d11c84
   "id": "sweet-andorra",
   "metadata": {},
   "outputs": [],
   "source": [
<<<<<<< HEAD
    "y = df_prepped['urate_bin'].astype('category').cat.set_categories(['lower', 'similar', 'higher'])\n",
=======
    "y = df_prepped['urate_bin'].astype('category')\n",
>>>>>>> f398c6351db67d227d6788c235916e0655d11c84
    "x = df_prepped.drop(columns = 'urate_bin')\n",
    "\n",
    "x_train, x_test, y_train, y_test = train_test_split(x, y, train_size = 2/3, random_state = 490)\n",
    "\n",
    "x_train_std = pd.DataFrame(StandardScaler().fit(x_train).transform(x_train),\n",
    "                           columns = x_train.columns,\n",
    "                           index = x_train.index)\n",
    "\n",
    "x_test_std = pd.DataFrame(StandardScaler().fit(x_test).transform(x_test),\n",
    "                          columns = x_test.columns, \n",
    "                          index = x_test.index)"
   ]
  },
  {
   "cell_type": "markdown",
   "id": "amateur-arthritis",
   "metadata": {},
   "source": [
    "************\n",
    "# Null Model\n",
    "Obtain and print the accuracy for the null model."
   ]
  },
  {
   "cell_type": "code",
<<<<<<< HEAD
   "execution_count": 6,
=======
   "execution_count": 7,
>>>>>>> f398c6351db67d227d6788c235916e0655d11c84
   "id": "needed-notebook",
   "metadata": {},
   "outputs": [
    {
     "data": {
      "text/plain": [
       "0.43416937149601653"
      ]
     },
<<<<<<< HEAD
     "execution_count": 6,
=======
     "execution_count": 7,
>>>>>>> f398c6351db67d227d6788c235916e0655d11c84
     "metadata": {},
     "output_type": "execute_result"
    }
   ],
   "source": [
    "null_acc = np.mean(y_test == 'higher')\n",
    "null_acc"
   ]
  },
  {
   "cell_type": "markdown",
   "id": "graphic-astrology",
   "metadata": {},
   "source": [
    "***\n",
    "# Gaussian Naive Bayes\n",
    "Obtain and print the GNB test accuracy."
   ]
  },
  {
   "cell_type": "code",
<<<<<<< HEAD
   "execution_count": 7,
=======
   "execution_count": 8,
>>>>>>> f398c6351db67d227d6788c235916e0655d11c84
   "id": "enormous-bedroom",
   "metadata": {},
   "outputs": [
    {
     "data": {
      "text/plain": [
<<<<<<< HEAD
       "0.49642962525818823"
      ]
     },
     "execution_count": 7,
=======
       "0.5061079964591325"
      ]
     },
     "execution_count": 8,
>>>>>>> f398c6351db67d227d6788c235916e0655d11c84
     "metadata": {},
     "output_type": "execute_result"
    }
   ],
   "source": [
    "gnb = GaussianNB()\n",
    "gnb.fit(x_train, y_train)\n",
    "\n",
    "gnb_acc = (gnb.score(x_test, y_test))\n",
    "gnb_acc"
   ]
  },
  {
   "cell_type": "markdown",
   "id": "serial-florida",
   "metadata": {},
   "source": [
    "Obtain and print the percent improvement in test accuracy from the null model."
   ]
  },
  {
   "cell_type": "code",
<<<<<<< HEAD
   "execution_count": 8,
=======
   "execution_count": 9,
>>>>>>> f398c6351db67d227d6788c235916e0655d11c84
   "id": "intimate-carpet",
   "metadata": {},
   "outputs": [
    {
     "data": {
      "text/plain": [
<<<<<<< HEAD
       "14.34"
      ]
     },
     "execution_count": 8,
=======
       "16.57"
      ]
     },
     "execution_count": 9,
>>>>>>> f398c6351db67d227d6788c235916e0655d11c84
     "metadata": {},
     "output_type": "execute_result"
    }
   ],
   "source": [
    "round((gnb_acc - null_acc)/null_acc*100, 2)"
   ]
  },
  {
   "cell_type": "markdown",
   "id": "spare-vanilla",
   "metadata": {},
   "source": [
    "***\n",
    "# KNN\n",
    "Complete the following for loop.\n",
    "\n",
    "*Hint: Lecture 11 Regression-Based Classification - Alternative Thresholds*."
   ]
  },
  {
   "cell_type": "code",
<<<<<<< HEAD
   "execution_count": 9,
=======
   "execution_count": 13,
>>>>>>> f398c6351db67d227d6788c235916e0655d11c84
   "id": "drawn-kingdom",
   "metadata": {},
   "outputs": [
    {
     "name": "stderr",
     "output_type": "stream",
     "text": [
<<<<<<< HEAD
      "100%|██████████| 3/3 [01:06<00:00, 22.27s/it]\n"
     ]
    },
    {
     "data": {
      "text/plain": [
       "{20: 0.6635484835735472, 30: 0.6686829112737166, 40: 0.6667353383532633}"
      ]
     },
     "execution_count": 9,
     "metadata": {},
     "output_type": "execute_result"
=======
      "  0%|          | 0/3 [00:00<?, ?it/s]\n"
     ]
    },
    {
     "ename": "ValueError",
     "evalue": "Unknown label type: 'continuous'",
     "output_type": "error",
     "traceback": [
      "\u001b[0;31m---------------------------------------------------------------------------\u001b[0m",
      "\u001b[0;31mValueError\u001b[0m                                Traceback (most recent call last)",
      "\u001b[0;32m<ipython-input-13-ea48916e5c26>\u001b[0m in \u001b[0;36m<module>\u001b[0;34m\u001b[0m\n\u001b[1;32m     11\u001b[0m     \u001b[0macc\u001b[0m \u001b[0;34m=\u001b[0m \u001b[0;34m[\u001b[0m\u001b[0;34m]\u001b[0m\u001b[0;34m\u001b[0m\u001b[0;34m\u001b[0m\u001b[0m\n\u001b[1;32m     12\u001b[0m     \u001b[0;32mfor\u001b[0m \u001b[0mtrn\u001b[0m\u001b[0;34m,\u001b[0m \u001b[0mtst\u001b[0m \u001b[0;32min\u001b[0m \u001b[0mkf\u001b[0m\u001b[0;34m.\u001b[0m\u001b[0msplit\u001b[0m\u001b[0;34m(\u001b[0m\u001b[0mx_train_std\u001b[0m\u001b[0;34m)\u001b[0m\u001b[0;34m:\u001b[0m\u001b[0;34m\u001b[0m\u001b[0;34m\u001b[0m\u001b[0m\n\u001b[0;32m---> 13\u001b[0;31m         \u001b[0myhat\u001b[0m \u001b[0;34m=\u001b[0m \u001b[0;34m(\u001b[0m\u001b[0mKNeighborsClassifier\u001b[0m\u001b[0;34m(\u001b[0m\u001b[0mn_neighbors\u001b[0m \u001b[0;34m=\u001b[0m \u001b[0mk\u001b[0m\u001b[0;34m)\u001b[0m\u001b[0;34m.\u001b[0m\u001b[0mfit\u001b[0m\u001b[0;34m(\u001b[0m\u001b[0mx_train_std\u001b[0m\u001b[0;34m.\u001b[0m\u001b[0miloc\u001b[0m\u001b[0;34m[\u001b[0m\u001b[0mtrn\u001b[0m\u001b[0;34m,\u001b[0m \u001b[0;36m1\u001b[0m\u001b[0;34m:\u001b[0m\u001b[0;34m]\u001b[0m\u001b[0;34m,\u001b[0m \u001b[0mx_train_std\u001b[0m\u001b[0;34m.\u001b[0m\u001b[0miloc\u001b[0m\u001b[0;34m[\u001b[0m\u001b[0mtrn\u001b[0m\u001b[0;34m,\u001b[0m \u001b[0;36m0\u001b[0m\u001b[0;34m]\u001b[0m\u001b[0;34m)\u001b[0m\u001b[0;34m.\u001b[0m\u001b[0mpredict_proba\u001b[0m\u001b[0;34m(\u001b[0m\u001b[0mx_train_std\u001b[0m\u001b[0;34m.\u001b[0m\u001b[0miloc\u001b[0m\u001b[0;34m[\u001b[0m\u001b[0mtst\u001b[0m\u001b[0;34m,\u001b[0m \u001b[0;36m1\u001b[0m\u001b[0;34m:\u001b[0m\u001b[0;34m]\u001b[0m\u001b[0;34m)\u001b[0m\u001b[0;34m[\u001b[0m\u001b[0;34m:\u001b[0m\u001b[0;34m,\u001b[0m \u001b[0;36m1\u001b[0m\u001b[0;34m]\u001b[0m \u001b[0;34m>\u001b[0m \u001b[0ma\u001b[0m\u001b[0;34m)\u001b[0m\u001b[0;34m*\u001b[0m\u001b[0;36m1\u001b[0m\u001b[0;34m\u001b[0m\u001b[0;34m\u001b[0m\u001b[0m\n\u001b[0m\u001b[1;32m     14\u001b[0m \u001b[0;34m\u001b[0m\u001b[0m\n\u001b[1;32m     15\u001b[0m         \u001b[0macc\u001b[0m\u001b[0;34m.\u001b[0m\u001b[0mappend\u001b[0m\u001b[0;34m(\u001b[0m\u001b[0mnp\u001b[0m\u001b[0;34m.\u001b[0m\u001b[0mmean\u001b[0m\u001b[0;34m(\u001b[0m\u001b[0myhat\u001b[0m \u001b[0;34m==\u001b[0m \u001b[0my_train\u001b[0m\u001b[0;34m.\u001b[0m\u001b[0miloc\u001b[0m\u001b[0;34m[\u001b[0m\u001b[0mtst\u001b[0m\u001b[0;34m]\u001b[0m\u001b[0;34m)\u001b[0m\u001b[0;34m)\u001b[0m\u001b[0;34m\u001b[0m\u001b[0;34m\u001b[0m\u001b[0m\n",
      "\u001b[0;32m/usr/local/lib/python3.6/dist-packages/sklearn/neighbors/_base.py\u001b[0m in \u001b[0;36mfit\u001b[0;34m(self, X, y)\u001b[0m\n\u001b[1;32m   1144\u001b[0m             \u001b[0mself\u001b[0m\u001b[0;34m.\u001b[0m\u001b[0moutputs_2d_\u001b[0m \u001b[0;34m=\u001b[0m \u001b[0;32mTrue\u001b[0m\u001b[0;34m\u001b[0m\u001b[0;34m\u001b[0m\u001b[0m\n\u001b[1;32m   1145\u001b[0m \u001b[0;34m\u001b[0m\u001b[0m\n\u001b[0;32m-> 1146\u001b[0;31m         \u001b[0mcheck_classification_targets\u001b[0m\u001b[0;34m(\u001b[0m\u001b[0my\u001b[0m\u001b[0;34m)\u001b[0m\u001b[0;34m\u001b[0m\u001b[0;34m\u001b[0m\u001b[0m\n\u001b[0m\u001b[1;32m   1147\u001b[0m         \u001b[0mself\u001b[0m\u001b[0;34m.\u001b[0m\u001b[0mclasses_\u001b[0m \u001b[0;34m=\u001b[0m \u001b[0;34m[\u001b[0m\u001b[0;34m]\u001b[0m\u001b[0;34m\u001b[0m\u001b[0;34m\u001b[0m\u001b[0m\n\u001b[1;32m   1148\u001b[0m         \u001b[0mself\u001b[0m\u001b[0;34m.\u001b[0m\u001b[0m_y\u001b[0m \u001b[0;34m=\u001b[0m \u001b[0mnp\u001b[0m\u001b[0;34m.\u001b[0m\u001b[0mempty\u001b[0m\u001b[0;34m(\u001b[0m\u001b[0my\u001b[0m\u001b[0;34m.\u001b[0m\u001b[0mshape\u001b[0m\u001b[0;34m,\u001b[0m \u001b[0mdtype\u001b[0m\u001b[0;34m=\u001b[0m\u001b[0mnp\u001b[0m\u001b[0;34m.\u001b[0m\u001b[0mint\u001b[0m\u001b[0;34m)\u001b[0m\u001b[0;34m\u001b[0m\u001b[0;34m\u001b[0m\u001b[0m\n",
      "\u001b[0;32m/usr/local/lib/python3.6/dist-packages/sklearn/utils/multiclass.py\u001b[0m in \u001b[0;36mcheck_classification_targets\u001b[0;34m(y)\u001b[0m\n\u001b[1;32m    170\u001b[0m     if y_type not in ['binary', 'multiclass', 'multiclass-multioutput',\n\u001b[1;32m    171\u001b[0m                       'multilabel-indicator', 'multilabel-sequences']:\n\u001b[0;32m--> 172\u001b[0;31m         \u001b[0;32mraise\u001b[0m \u001b[0mValueError\u001b[0m\u001b[0;34m(\u001b[0m\u001b[0;34m\"Unknown label type: %r\"\u001b[0m \u001b[0;34m%\u001b[0m \u001b[0my_type\u001b[0m\u001b[0;34m)\u001b[0m\u001b[0;34m\u001b[0m\u001b[0;34m\u001b[0m\u001b[0m\n\u001b[0m\u001b[1;32m    173\u001b[0m \u001b[0;34m\u001b[0m\u001b[0m\n\u001b[1;32m    174\u001b[0m \u001b[0;34m\u001b[0m\u001b[0m\n",
      "\u001b[0;31mValueError\u001b[0m: Unknown label type: 'continuous'"
     ]
>>>>>>> f398c6351db67d227d6788c235916e0655d11c84
    }
   ],
   "source": [
    "kf = KFold(n_splits = 5, random_state = 490, shuffle = True)\n",
    "# I am helping you out by identifying approximately where the optimal solution is\n",
    "# in general, you should I would start with\n",
    "# [3, 5, 7, 10, 15, 20, 25]\n",
    "# and adjust accordingly\n",
    "# There is no reason to suspect a smaller or higher value is best a priori\n",
    "k_nbrs = [20, 30, 40]\n",
    "accuracy = {}\n",
    "\n",
    "for k in tqdm(k_nbrs):\n",
    "    acc = []\n",
    "    for trn, tst in kf.split(x_train_std):\n",
<<<<<<< HEAD
    "        y_hat = KNeighborsClassifier(n_neighbors = k).fit(x_train_std.iloc[trn], y_train.iloc[trn]).predict(x_train_std.iloc[tst])\n",
    "        acc.append(np.mean(y_hat == y_train.iloc[tst]))\n",
=======
    "        yhat = (KNeighborsClassifier(n_neighbors = k).fit(x_train_std.iloc[trn, 1:], x_train_std.iloc[trn, 0]).predict_proba(x_train_std.iloc[tst, 1:])[:, 1] > a)*1\n",
    "        \n",
    "        acc.append(np.mean(yhat == y_train.iloc[tst]))\n",
>>>>>>> f398c6351db67d227d6788c235916e0655d11c84
    "    accuracy[k] = np.mean(acc)\n",
    "    \n",
    "accuracy"
   ]
  },
  {
   "cell_type": "markdown",
   "id": "twenty-parks",
   "metadata": {},
   "source": [
    "What is the optimal value of $k$ using either `max()` or by producing a scatterplot."
   ]
  },
  {
   "cell_type": "code",
<<<<<<< HEAD
   "execution_count": 10,
=======
   "execution_count": 14,
>>>>>>> f398c6351db67d227d6788c235916e0655d11c84
   "id": "unexpected-evans",
   "metadata": {},
   "outputs": [
    {
<<<<<<< HEAD
     "name": "stdout",
     "output_type": "stream",
     "text": [
      "max accuracy at alpha = 30\n"
=======
     "ename": "ValueError",
     "evalue": "max() arg is an empty sequence",
     "output_type": "error",
     "traceback": [
      "\u001b[0;31m---------------------------------------------------------------------------\u001b[0m",
      "\u001b[0;31mValueError\u001b[0m                                Traceback (most recent call last)",
      "\u001b[0;32m<ipython-input-14-b8038113960b>\u001b[0m in \u001b[0;36m<module>\u001b[0;34m\u001b[0m\n\u001b[0;32m----> 1\u001b[0;31m \u001b[0mprint\u001b[0m\u001b[0;34m(\u001b[0m\u001b[0mmax\u001b[0m\u001b[0;34m(\u001b[0m\u001b[0maccuracy\u001b[0m\u001b[0;34m,\u001b[0m \u001b[0mkey\u001b[0m \u001b[0;34m=\u001b[0m \u001b[0maccuracy\u001b[0m\u001b[0;34m.\u001b[0m\u001b[0mget\u001b[0m\u001b[0;34m)\u001b[0m\u001b[0;34m)\u001b[0m\u001b[0;34m\u001b[0m\u001b[0;34m\u001b[0m\u001b[0m\n\u001b[0m",
      "\u001b[0;31mValueError\u001b[0m: max() arg is an empty sequence"
>>>>>>> f398c6351db67d227d6788c235916e0655d11c84
     ]
    }
   ],
   "source": [
<<<<<<< HEAD
    "print('max accuracy at alpha = %s' % max(accuracy, key = accuracy.get))"
=======
    "print(max(accuracy, key = accuracy.get))"
>>>>>>> f398c6351db67d227d6788c235916e0655d11c84
   ]
  },
  {
   "cell_type": "markdown",
   "id": "grand-india",
   "metadata": {},
   "source": [
    "Refit the optimal KNN model on the training data."
   ]
  },
  {
   "cell_type": "code",
<<<<<<< HEAD
   "execution_count": 12,
   "id": "hazardous-discrimination",
   "metadata": {},
   "outputs": [
    {
     "data": {
      "text/plain": [
       "KNeighborsClassifier(n_neighbors=30)"
      ]
     },
     "execution_count": 12,
     "metadata": {},
     "output_type": "execute_result"
    }
   ],
   "source": [
    "knnc = KNeighborsClassifier(n_neighbors = 30)\n",
=======
   "execution_count": null,
   "id": "hazardous-discrimination",
   "metadata": {},
   "outputs": [],
   "source": [
    "knnc = KNeighborsClassifier(n_neighbors = max(accuracy, key = accuracy.get))\n",
>>>>>>> f398c6351db67d227d6788c235916e0655d11c84
    "knnc.fit(x_train_std, y_train)"
   ]
  },
  {
   "cell_type": "markdown",
   "id": "certified-chester",
   "metadata": {},
   "source": [
    "Obtain and print the test accuracy."
   ]
  },
  {
   "cell_type": "code",
<<<<<<< HEAD
   "execution_count": 13,
   "id": "wanted-craft",
   "metadata": {},
   "outputs": [],
   "source": [
    "knn_acc = (knnc.score(x_test_std, y_test))"
=======
   "execution_count": 14,
   "id": "wanted-craft",
   "metadata": {},
   "outputs": [
    {
     "name": "stdout",
     "output_type": "stream",
     "text": [
      "Wall time: 25.9 s\n"
     ]
    }
   ],
   "source": [
    "knn_acc = knn.score(x_test_std, y_test)"
>>>>>>> f398c6351db67d227d6788c235916e0655d11c84
   ]
  },
  {
   "cell_type": "markdown",
   "id": "pharmaceutical-region",
   "metadata": {},
   "source": [
    "Obtain and print the percent improvement in test accuracy from the null model."
   ]
  },
  {
   "cell_type": "code",
<<<<<<< HEAD
   "execution_count": 14,
   "id": "functional-clark",
   "metadata": {},
   "outputs": [
    {
     "data": {
      "text/plain": [
       "54.94"
      ]
     },
     "execution_count": 14,
     "metadata": {},
     "output_type": "execute_result"
    }
   ],
=======
   "execution_count": null,
   "id": "functional-clark",
   "metadata": {},
   "outputs": [],
>>>>>>> f398c6351db67d227d6788c235916e0655d11c84
   "source": [
    "round((knn_acc - null_acc)/null_acc*100, 2)"
   ]
  }
 ],
 "metadata": {
  "kernelspec": {
   "display_name": "Python 3",
   "language": "python",
   "name": "python3"
  },
  "language_info": {
   "codemirror_mode": {
    "name": "ipython",
    "version": 3
   },
   "file_extension": ".py",
   "mimetype": "text/x-python",
   "name": "python",
   "nbconvert_exporter": "python",
   "pygments_lexer": "ipython3",
<<<<<<< HEAD
   "version": "3.8.5"
=======
   "version": "3.6.9"
>>>>>>> f398c6351db67d227d6788c235916e0655d11c84
  }
 },
 "nbformat": 4,
 "nbformat_minor": 5
}
